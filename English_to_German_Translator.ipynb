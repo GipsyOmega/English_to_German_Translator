{
  "nbformat": 4,
  "nbformat_minor": 0,
  "metadata": {
    "colab": {
      "name": "English to German Translator.ipynb",
      "provenance": [],
      "collapsed_sections": [],
      "authorship_tag": "ABX9TyP0ux761m0BzNfadnQM3bQ4",
      "include_colab_link": true
    },
    "kernelspec": {
      "name": "python3",
      "display_name": "Python 3"
    },
    "language_info": {
      "name": "python"
    },
    "accelerator": "GPU"
  },
  "cells": [
    {
      "cell_type": "markdown",
      "metadata": {
        "id": "view-in-github",
        "colab_type": "text"
      },
      "source": [
        "<a href=\"https://colab.research.google.com/github/GipsyOmega/English_to_German_Translator/blob/main/English_to_German_Translator.ipynb\" target=\"_parent\"><img src=\"https://colab.research.google.com/assets/colab-badge.svg\" alt=\"Open In Colab\"/></a>"
      ]
    },
    {
      "cell_type": "code",
      "execution_count": null,
      "metadata": {
        "id": "WyjGsu1c03qk"
      },
      "outputs": [],
      "source": [
        "import numpy as np\n",
        "import tensorflow as tf\n",
        "import matplotlib.pyplot as plt\n",
        "%matplotlib inline"
      ]
    },
    {
      "cell_type": "code",
      "source": [
        "input_text = []\n",
        "target_text = []\n",
        "input_characters = set()\n",
        "target_characters = set()"
      ],
      "metadata": {
        "id": "B6jWt2xY25Lo"
      },
      "execution_count": null,
      "outputs": []
    },
    {
      "cell_type": "code",
      "source": [
        "vocab_size=10000\n",
        "embedding_dim=16\n",
        "max_length = 120\n",
        "lstm_size = 32\n",
        "batch_size = 32\n",
        "epochs = 150\n",
        "path = '/content/deu.txt'"
      ],
      "metadata": {
        "id": "USo5g0v-5q0f"
      },
      "execution_count": null,
      "outputs": []
    },
    {
      "cell_type": "code",
      "source": [
        "with open(path, mode = 'r', encoding = 'utf-8') as f:\n",
        "  lines = f.read().split('\\n')\n",
        "  for line in lines[:min(vocab_size, len(lines)-1)]:\n",
        "    input, target, _ = line.split('\\t')\n",
        "    target = '\\t' + target + '\\n' #using <SOS> as \\t and <EOS> as \\n\n",
        "    input_text.append(input)\n",
        "    target_text.append(target)\n",
        "    for char in input:\n",
        "      if char not in input_characters:\n",
        "        input_characters.add(char)\n",
        "    for char in target:\n",
        "      if char not in target_characters:\n",
        "        target_characters.add(char)"
      ],
      "metadata": {
        "id": "c2SzqMca42WZ"
      },
      "execution_count": null,
      "outputs": []
    },
    {
      "cell_type": "code",
      "source": [
        "input_characters = sorted(list(input_characters))\n",
        "target_characters = sorted(list(target_characters))\n",
        "encoder_tokens = len(input_characters)\n",
        "decoder_tokens = len(target_characters)\n",
        "max_length_encoder = max(len(x) for x in input_text)\n",
        "max_length_decoder = max(len(x) for x in target_text)"
      ],
      "metadata": {
        "id": "WwGnK7Yk8Zyz"
      },
      "execution_count": null,
      "outputs": []
    },
    {
      "cell_type": "code",
      "source": [
        "print('Input tokens: ', encoder_tokens)\n",
        "print('Target tokens: ', decoder_tokens)\n",
        "print('Max English sentence length: ', max_length_encoder)\n",
        "print('Max German sentence length: ', max_length_decoder)"
      ],
      "metadata": {
        "colab": {
          "base_uri": "https://localhost:8080/"
        },
        "id": "RmjHicjf_cr1",
        "outputId": "9a399ea8-f2aa-4f94-e74a-a01dbfe188b1"
      },
      "execution_count": null,
      "outputs": [
        {
          "output_type": "stream",
          "name": "stdout",
          "text": [
            "Input tokens:  70\n",
            "Target tokens:  83\n",
            "Max English sentence length:  15\n",
            "Max German sentence length:  51\n"
          ]
        }
      ]
    },
    {
      "cell_type": "code",
      "source": [
        "input_token_index = dict((char,i) for i,char in enumerate(input_characters))\n",
        "target_token_index = dict((char,i) for i,char in enumerate(target_characters))"
      ],
      "metadata": {
        "id": "WT5bR7E_DoeU"
      },
      "execution_count": null,
      "outputs": []
    },
    {
      "cell_type": "code",
      "source": [
        "input_token_index.items()"
      ],
      "metadata": {
        "colab": {
          "base_uri": "https://localhost:8080/"
        },
        "id": "7STFi-9KENOV",
        "outputId": "0a8a2b35-af96-4400-e37e-ca55aa48d1f9"
      },
      "execution_count": null,
      "outputs": [
        {
          "output_type": "execute_result",
          "data": {
            "text/plain": [
              "dict_items([(' ', 0), ('!', 1), ('\"', 2), ('$', 3), ('%', 4), (\"'\", 5), (',', 6), ('-', 7), ('.', 8), ('0', 9), ('1', 10), ('2', 11), ('3', 12), ('4', 13), ('5', 14), ('7', 15), ('8', 16), ('9', 17), (':', 18), ('?', 19), ('A', 20), ('B', 21), ('C', 22), ('D', 23), ('E', 24), ('F', 25), ('G', 26), ('H', 27), ('I', 28), ('J', 29), ('K', 30), ('L', 31), ('M', 32), ('N', 33), ('O', 34), ('P', 35), ('Q', 36), ('R', 37), ('S', 38), ('T', 39), ('U', 40), ('V', 41), ('W', 42), ('Y', 43), ('a', 44), ('b', 45), ('c', 46), ('d', 47), ('e', 48), ('f', 49), ('g', 50), ('h', 51), ('i', 52), ('j', 53), ('k', 54), ('l', 55), ('m', 56), ('n', 57), ('o', 58), ('p', 59), ('q', 60), ('r', 61), ('s', 62), ('t', 63), ('u', 64), ('v', 65), ('w', 66), ('x', 67), ('y', 68), ('z', 69)])"
            ]
          },
          "metadata": {},
          "execution_count": 8
        }
      ]
    },
    {
      "cell_type": "code",
      "source": [
        "# Creating numpy arrays\n",
        "encoder_input = np.zeros((len(input_text), max_length_encoder, encoder_tokens), dtype = 'float32')\n",
        "decoder_input = np.zeros((len(input_text), max_length_decoder, decoder_tokens), dtype = 'float32')\n",
        "decoder_target = np.zeros((len(input_text), max_length_decoder, decoder_tokens), dtype = 'float32')"
      ],
      "metadata": {
        "id": "i3-CmV3CAFVs"
      },
      "execution_count": null,
      "outputs": []
    },
    {
      "cell_type": "code",
      "source": [
        "for i, (input, target) in enumerate(zip(input_text,target_text)):\n",
        "  for t, char in enumerate(input):\n",
        "    encoder_input[i,t,input_token_index[char]] = 1.\n",
        "  encoder_input[i,t+1:,input_token_index[' ']] = 1.\n",
        "  for t, char in enumerate(target):\n",
        "      decoder_input[i,t,target_token_index[char]] = 1.\n",
        "      if t>0:\n",
        "        decoder_target[i,t-1,target_token_index[char]] = 1. \n",
        "  decoder_input[i,t+1:,target_token_index[' ']] =1. \n",
        "  decoder_target[i,t:,target_token_index[' ']] =1. "
      ],
      "metadata": {
        "id": "s94M4p_mA3fp"
      },
      "execution_count": null,
      "outputs": []
    },
    {
      "cell_type": "code",
      "source": [
        "encoder_input.shape"
      ],
      "metadata": {
        "colab": {
          "base_uri": "https://localhost:8080/"
        },
        "id": "R-bVOTmjIu9A",
        "outputId": "131d8231-6f33-4b1d-d186-134aa1e23047"
      },
      "execution_count": null,
      "outputs": [
        {
          "output_type": "execute_result",
          "data": {
            "text/plain": [
              "(10000, 15, 70)"
            ]
          },
          "metadata": {},
          "execution_count": 11
        }
      ]
    },
    {
      "cell_type": "code",
      "source": [
        "encoder_tokens"
      ],
      "metadata": {
        "colab": {
          "base_uri": "https://localhost:8080/"
        },
        "id": "1e59bhn_N1xu",
        "outputId": "209df235-dd1f-47c2-ca74-ae0388bf6e2c"
      },
      "execution_count": null,
      "outputs": [
        {
          "output_type": "execute_result",
          "data": {
            "text/plain": [
              "70"
            ]
          },
          "metadata": {},
          "execution_count": 12
        }
      ]
    },
    {
      "cell_type": "code",
      "source": [
        "from tensorflow.keras.layers import LSTM, Input"
      ],
      "metadata": {
        "id": "l5mwpEZVO0A8"
      },
      "execution_count": null,
      "outputs": []
    },
    {
      "cell_type": "code",
      "source": [
        "# Model creation\n",
        "encoder_model = Input(shape=(None, encoder_tokens))\n",
        "encoder = LSTM(32, return_state=True)\n",
        "encoder_output, h_state, cell_state = encoder(encoder_model)\n",
        "encoder_states = [h_state, cell_state]"
      ],
      "metadata": {
        "id": "yTYc5dVjI5qT"
      },
      "execution_count": null,
      "outputs": []
    },
    {
      "cell_type": "code",
      "source": [
        "decoder_model = Input(shape = (None, decoder_tokens))\n",
        "decoder = LSTM(32, return_sequences=True, return_state= True)\n",
        "decoder_output, _, _ = decoder(decoder_model, initial_state = encoder_states)\n",
        "decoder_layer = tf.keras.layers.Dense(decoder_tokens, activation = 'softmax')\n",
        "output = decoder_layer(decoder_output)"
      ],
      "metadata": {
        "id": "VP4__9SfOaWs"
      },
      "execution_count": null,
      "outputs": []
    },
    {
      "cell_type": "code",
      "source": [
        "model = None\n",
        "model = tf.keras.models.Model(inputs = [encoder_model, decoder_model], outputs = output)\n",
        "model.compile(optimizer = 'rmsprop', loss='categorical_crossentropy', metrics = 'accuracy')\n",
        "history = model.fit([encoder_input, decoder_input], decoder_target, batch_size = batch_size, epochs = epochs, validation_split = 0.2)"
      ],
      "metadata": {
        "colab": {
          "base_uri": "https://localhost:8080/"
        },
        "id": "DAyEpqp4RHQu",
        "outputId": "c3b28dc9-529e-4fc7-f96f-431bb8994672"
      },
      "execution_count": null,
      "outputs": [
        {
          "output_type": "stream",
          "name": "stdout",
          "text": [
            "Epoch 1/150\n",
            "250/250 [==============================] - 5s 12ms/step - loss: 0.3757 - accuracy: 0.8914 - val_loss: 0.5740 - val_accuracy: 0.8396\n",
            "Epoch 2/150\n",
            "250/250 [==============================] - 2s 8ms/step - loss: 0.3747 - accuracy: 0.8917 - val_loss: 0.5752 - val_accuracy: 0.8405\n",
            "Epoch 3/150\n",
            "250/250 [==============================] - 2s 9ms/step - loss: 0.3742 - accuracy: 0.8918 - val_loss: 0.5755 - val_accuracy: 0.8388\n",
            "Epoch 4/150\n",
            "250/250 [==============================] - 2s 8ms/step - loss: 0.3737 - accuracy: 0.8919 - val_loss: 0.5753 - val_accuracy: 0.8395\n",
            "Epoch 5/150\n",
            "250/250 [==============================] - 2s 8ms/step - loss: 0.3731 - accuracy: 0.8921 - val_loss: 0.5762 - val_accuracy: 0.8389\n",
            "Epoch 6/150\n",
            "250/250 [==============================] - 2s 8ms/step - loss: 0.3727 - accuracy: 0.8923 - val_loss: 0.5751 - val_accuracy: 0.8395\n",
            "Epoch 7/150\n",
            "250/250 [==============================] - 2s 8ms/step - loss: 0.3721 - accuracy: 0.8923 - val_loss: 0.5776 - val_accuracy: 0.8388\n",
            "Epoch 8/150\n",
            "250/250 [==============================] - 2s 8ms/step - loss: 0.3715 - accuracy: 0.8925 - val_loss: 0.5777 - val_accuracy: 0.8390\n",
            "Epoch 9/150\n",
            "250/250 [==============================] - 2s 8ms/step - loss: 0.3711 - accuracy: 0.8925 - val_loss: 0.5760 - val_accuracy: 0.8396\n",
            "Epoch 10/150\n",
            "250/250 [==============================] - 2s 8ms/step - loss: 0.3704 - accuracy: 0.8925 - val_loss: 0.5784 - val_accuracy: 0.8390\n",
            "Epoch 11/150\n",
            "250/250 [==============================] - 2s 8ms/step - loss: 0.3701 - accuracy: 0.8928 - val_loss: 0.5774 - val_accuracy: 0.8390\n",
            "Epoch 12/150\n",
            "250/250 [==============================] - 2s 8ms/step - loss: 0.3696 - accuracy: 0.8929 - val_loss: 0.5763 - val_accuracy: 0.8398\n",
            "Epoch 13/150\n",
            "250/250 [==============================] - 2s 9ms/step - loss: 0.3690 - accuracy: 0.8932 - val_loss: 0.5769 - val_accuracy: 0.8388\n",
            "Epoch 14/150\n",
            "250/250 [==============================] - 2s 8ms/step - loss: 0.3686 - accuracy: 0.8932 - val_loss: 0.5792 - val_accuracy: 0.8390\n",
            "Epoch 15/150\n",
            "250/250 [==============================] - 2s 8ms/step - loss: 0.3681 - accuracy: 0.8933 - val_loss: 0.5773 - val_accuracy: 0.8392\n",
            "Epoch 16/150\n",
            "250/250 [==============================] - 2s 8ms/step - loss: 0.3675 - accuracy: 0.8934 - val_loss: 0.5780 - val_accuracy: 0.8390\n",
            "Epoch 17/150\n",
            "250/250 [==============================] - 2s 8ms/step - loss: 0.3672 - accuracy: 0.8934 - val_loss: 0.5775 - val_accuracy: 0.8396\n",
            "Epoch 18/150\n",
            "250/250 [==============================] - 2s 8ms/step - loss: 0.3668 - accuracy: 0.8939 - val_loss: 0.5787 - val_accuracy: 0.8388\n",
            "Epoch 19/150\n",
            "250/250 [==============================] - 2s 8ms/step - loss: 0.3663 - accuracy: 0.8937 - val_loss: 0.5779 - val_accuracy: 0.8402\n",
            "Epoch 20/150\n",
            "250/250 [==============================] - 2s 8ms/step - loss: 0.3657 - accuracy: 0.8939 - val_loss: 0.5784 - val_accuracy: 0.8394\n",
            "Epoch 21/150\n",
            "250/250 [==============================] - 2s 9ms/step - loss: 0.3654 - accuracy: 0.8941 - val_loss: 0.5797 - val_accuracy: 0.8392\n",
            "Epoch 22/150\n",
            "250/250 [==============================] - 2s 8ms/step - loss: 0.3649 - accuracy: 0.8941 - val_loss: 0.5803 - val_accuracy: 0.8388\n",
            "Epoch 23/150\n",
            "250/250 [==============================] - 2s 8ms/step - loss: 0.3644 - accuracy: 0.8944 - val_loss: 0.5786 - val_accuracy: 0.8397\n",
            "Epoch 24/150\n",
            "250/250 [==============================] - 2s 8ms/step - loss: 0.3640 - accuracy: 0.8942 - val_loss: 0.5797 - val_accuracy: 0.8392\n",
            "Epoch 25/150\n",
            "250/250 [==============================] - 2s 8ms/step - loss: 0.3636 - accuracy: 0.8946 - val_loss: 0.5795 - val_accuracy: 0.8393\n",
            "Epoch 26/150\n",
            "250/250 [==============================] - 2s 9ms/step - loss: 0.3633 - accuracy: 0.8945 - val_loss: 0.5783 - val_accuracy: 0.8393\n",
            "Epoch 27/150\n",
            "250/250 [==============================] - 2s 8ms/step - loss: 0.3627 - accuracy: 0.8949 - val_loss: 0.5783 - val_accuracy: 0.8403\n",
            "Epoch 28/150\n",
            "250/250 [==============================] - 2s 8ms/step - loss: 0.3623 - accuracy: 0.8947 - val_loss: 0.5799 - val_accuracy: 0.8398\n",
            "Epoch 29/150\n",
            "250/250 [==============================] - 2s 8ms/step - loss: 0.3620 - accuracy: 0.8947 - val_loss: 0.5787 - val_accuracy: 0.8401\n",
            "Epoch 30/150\n",
            "250/250 [==============================] - 2s 9ms/step - loss: 0.3614 - accuracy: 0.8952 - val_loss: 0.5798 - val_accuracy: 0.8392\n",
            "Epoch 31/150\n",
            "250/250 [==============================] - 2s 8ms/step - loss: 0.3611 - accuracy: 0.8951 - val_loss: 0.5803 - val_accuracy: 0.8397\n",
            "Epoch 32/150\n",
            "250/250 [==============================] - 2s 8ms/step - loss: 0.3607 - accuracy: 0.8953 - val_loss: 0.5805 - val_accuracy: 0.8395\n",
            "Epoch 33/150\n",
            "250/250 [==============================] - 2s 8ms/step - loss: 0.3604 - accuracy: 0.8955 - val_loss: 0.5795 - val_accuracy: 0.8401\n",
            "Epoch 34/150\n",
            "250/250 [==============================] - 2s 9ms/step - loss: 0.3599 - accuracy: 0.8955 - val_loss: 0.5806 - val_accuracy: 0.8395\n",
            "Epoch 35/150\n",
            "250/250 [==============================] - 2s 8ms/step - loss: 0.3595 - accuracy: 0.8955 - val_loss: 0.5819 - val_accuracy: 0.8390\n",
            "Epoch 36/150\n",
            "250/250 [==============================] - 2s 9ms/step - loss: 0.3590 - accuracy: 0.8959 - val_loss: 0.5855 - val_accuracy: 0.8376\n",
            "Epoch 37/150\n",
            "250/250 [==============================] - 2s 9ms/step - loss: 0.3586 - accuracy: 0.8960 - val_loss: 0.5839 - val_accuracy: 0.8386\n",
            "Epoch 38/150\n",
            "250/250 [==============================] - 2s 8ms/step - loss: 0.3583 - accuracy: 0.8960 - val_loss: 0.5834 - val_accuracy: 0.8386\n",
            "Epoch 39/150\n",
            "250/250 [==============================] - 2s 8ms/step - loss: 0.3580 - accuracy: 0.8960 - val_loss: 0.5822 - val_accuracy: 0.8395\n",
            "Epoch 40/150\n",
            "250/250 [==============================] - 2s 8ms/step - loss: 0.3576 - accuracy: 0.8962 - val_loss: 0.5805 - val_accuracy: 0.8394\n",
            "Epoch 41/150\n",
            "250/250 [==============================] - 2s 9ms/step - loss: 0.3573 - accuracy: 0.8965 - val_loss: 0.5802 - val_accuracy: 0.8402\n",
            "Epoch 42/150\n",
            "250/250 [==============================] - 2s 8ms/step - loss: 0.3569 - accuracy: 0.8964 - val_loss: 0.5820 - val_accuracy: 0.8399\n",
            "Epoch 43/150\n",
            "250/250 [==============================] - 2s 8ms/step - loss: 0.3565 - accuracy: 0.8966 - val_loss: 0.5808 - val_accuracy: 0.8389\n",
            "Epoch 44/150\n",
            "250/250 [==============================] - 2s 8ms/step - loss: 0.3561 - accuracy: 0.8965 - val_loss: 0.5828 - val_accuracy: 0.8395\n",
            "Epoch 45/150\n",
            "250/250 [==============================] - 2s 8ms/step - loss: 0.3557 - accuracy: 0.8968 - val_loss: 0.5801 - val_accuracy: 0.8403\n",
            "Epoch 46/150\n",
            "250/250 [==============================] - 2s 8ms/step - loss: 0.3555 - accuracy: 0.8968 - val_loss: 0.5834 - val_accuracy: 0.8392\n",
            "Epoch 47/150\n",
            "250/250 [==============================] - 2s 8ms/step - loss: 0.3551 - accuracy: 0.8970 - val_loss: 0.5813 - val_accuracy: 0.8396\n",
            "Epoch 48/150\n",
            "250/250 [==============================] - 2s 8ms/step - loss: 0.3547 - accuracy: 0.8969 - val_loss: 0.5816 - val_accuracy: 0.8394\n",
            "Epoch 49/150\n",
            "250/250 [==============================] - 2s 8ms/step - loss: 0.3543 - accuracy: 0.8971 - val_loss: 0.5844 - val_accuracy: 0.8391\n",
            "Epoch 50/150\n",
            "250/250 [==============================] - 2s 8ms/step - loss: 0.3539 - accuracy: 0.8971 - val_loss: 0.5844 - val_accuracy: 0.8386\n",
            "Epoch 51/150\n",
            "250/250 [==============================] - 2s 8ms/step - loss: 0.3537 - accuracy: 0.8973 - val_loss: 0.5803 - val_accuracy: 0.8398\n",
            "Epoch 52/150\n",
            "250/250 [==============================] - 2s 8ms/step - loss: 0.3534 - accuracy: 0.8975 - val_loss: 0.5834 - val_accuracy: 0.8398\n",
            "Epoch 53/150\n",
            "250/250 [==============================] - 2s 8ms/step - loss: 0.3530 - accuracy: 0.8975 - val_loss: 0.5839 - val_accuracy: 0.8401\n",
            "Epoch 54/150\n",
            "250/250 [==============================] - 2s 8ms/step - loss: 0.3527 - accuracy: 0.8977 - val_loss: 0.5856 - val_accuracy: 0.8390\n",
            "Epoch 55/150\n",
            "250/250 [==============================] - 2s 8ms/step - loss: 0.3523 - accuracy: 0.8979 - val_loss: 0.5870 - val_accuracy: 0.8390\n",
            "Epoch 56/150\n",
            "250/250 [==============================] - 2s 8ms/step - loss: 0.3521 - accuracy: 0.8978 - val_loss: 0.5830 - val_accuracy: 0.8397\n",
            "Epoch 57/150\n",
            "250/250 [==============================] - 2s 8ms/step - loss: 0.3516 - accuracy: 0.8977 - val_loss: 0.5846 - val_accuracy: 0.8399\n",
            "Epoch 58/150\n",
            "250/250 [==============================] - 2s 8ms/step - loss: 0.3513 - accuracy: 0.8982 - val_loss: 0.5852 - val_accuracy: 0.8397\n",
            "Epoch 59/150\n",
            "250/250 [==============================] - 2s 9ms/step - loss: 0.3510 - accuracy: 0.8981 - val_loss: 0.5872 - val_accuracy: 0.8387\n",
            "Epoch 60/150\n",
            "250/250 [==============================] - 2s 8ms/step - loss: 0.3508 - accuracy: 0.8982 - val_loss: 0.5843 - val_accuracy: 0.8401\n",
            "Epoch 61/150\n",
            "250/250 [==============================] - 2s 8ms/step - loss: 0.3505 - accuracy: 0.8984 - val_loss: 0.5845 - val_accuracy: 0.8400\n",
            "Epoch 62/150\n",
            "250/250 [==============================] - 2s 8ms/step - loss: 0.3502 - accuracy: 0.8985 - val_loss: 0.5856 - val_accuracy: 0.8394\n",
            "Epoch 63/150\n",
            "250/250 [==============================] - 2s 8ms/step - loss: 0.3499 - accuracy: 0.8984 - val_loss: 0.5838 - val_accuracy: 0.8398\n",
            "Epoch 64/150\n",
            "250/250 [==============================] - 2s 9ms/step - loss: 0.3495 - accuracy: 0.8986 - val_loss: 0.5848 - val_accuracy: 0.8400\n",
            "Epoch 65/150\n",
            "250/250 [==============================] - 2s 8ms/step - loss: 0.3492 - accuracy: 0.8989 - val_loss: 0.5865 - val_accuracy: 0.8387\n",
            "Epoch 66/150\n",
            "250/250 [==============================] - 2s 8ms/step - loss: 0.3490 - accuracy: 0.8988 - val_loss: 0.5868 - val_accuracy: 0.8396\n",
            "Epoch 67/150\n",
            "250/250 [==============================] - 2s 9ms/step - loss: 0.3485 - accuracy: 0.8988 - val_loss: 0.5861 - val_accuracy: 0.8400\n",
            "Epoch 68/150\n",
            "250/250 [==============================] - 2s 9ms/step - loss: 0.3485 - accuracy: 0.8991 - val_loss: 0.5885 - val_accuracy: 0.8393\n",
            "Epoch 69/150\n",
            "250/250 [==============================] - 2s 9ms/step - loss: 0.3479 - accuracy: 0.8991 - val_loss: 0.5879 - val_accuracy: 0.8396\n",
            "Epoch 70/150\n",
            "250/250 [==============================] - 2s 9ms/step - loss: 0.3478 - accuracy: 0.8989 - val_loss: 0.5876 - val_accuracy: 0.8391\n",
            "Epoch 71/150\n",
            "250/250 [==============================] - 2s 8ms/step - loss: 0.3475 - accuracy: 0.8992 - val_loss: 0.5877 - val_accuracy: 0.8406\n",
            "Epoch 72/150\n",
            "250/250 [==============================] - 2s 8ms/step - loss: 0.3472 - accuracy: 0.8992 - val_loss: 0.5871 - val_accuracy: 0.8394\n",
            "Epoch 73/150\n",
            "250/250 [==============================] - 2s 8ms/step - loss: 0.3469 - accuracy: 0.8995 - val_loss: 0.5897 - val_accuracy: 0.8396\n",
            "Epoch 74/150\n",
            "250/250 [==============================] - 2s 8ms/step - loss: 0.3466 - accuracy: 0.8995 - val_loss: 0.5871 - val_accuracy: 0.8405\n",
            "Epoch 75/150\n",
            "250/250 [==============================] - 2s 9ms/step - loss: 0.3463 - accuracy: 0.8994 - val_loss: 0.5879 - val_accuracy: 0.8401\n",
            "Epoch 76/150\n",
            "250/250 [==============================] - 2s 8ms/step - loss: 0.3460 - accuracy: 0.8996 - val_loss: 0.5884 - val_accuracy: 0.8391\n",
            "Epoch 77/150\n",
            "250/250 [==============================] - 2s 8ms/step - loss: 0.3457 - accuracy: 0.8995 - val_loss: 0.5873 - val_accuracy: 0.8401\n",
            "Epoch 78/150\n",
            "250/250 [==============================] - 2s 9ms/step - loss: 0.3454 - accuracy: 0.8998 - val_loss: 0.5860 - val_accuracy: 0.8407\n",
            "Epoch 79/150\n",
            "250/250 [==============================] - 2s 8ms/step - loss: 0.3453 - accuracy: 0.8999 - val_loss: 0.5902 - val_accuracy: 0.8400\n",
            "Epoch 80/150\n",
            "250/250 [==============================] - 2s 9ms/step - loss: 0.3449 - accuracy: 0.9001 - val_loss: 0.5905 - val_accuracy: 0.8391\n",
            "Epoch 81/150\n",
            "250/250 [==============================] - 2s 8ms/step - loss: 0.3447 - accuracy: 0.9000 - val_loss: 0.5874 - val_accuracy: 0.8400\n",
            "Epoch 82/150\n",
            "250/250 [==============================] - 2s 8ms/step - loss: 0.3444 - accuracy: 0.9002 - val_loss: 0.5879 - val_accuracy: 0.8400\n",
            "Epoch 83/150\n",
            "250/250 [==============================] - 2s 9ms/step - loss: 0.3441 - accuracy: 0.9001 - val_loss: 0.5895 - val_accuracy: 0.8400\n",
            "Epoch 84/150\n",
            "250/250 [==============================] - 2s 9ms/step - loss: 0.3439 - accuracy: 0.9004 - val_loss: 0.5920 - val_accuracy: 0.8391\n",
            "Epoch 85/150\n",
            "250/250 [==============================] - 2s 8ms/step - loss: 0.3438 - accuracy: 0.9003 - val_loss: 0.5918 - val_accuracy: 0.8392\n",
            "Epoch 86/150\n",
            "250/250 [==============================] - 2s 8ms/step - loss: 0.3433 - accuracy: 0.9004 - val_loss: 0.5912 - val_accuracy: 0.8392\n",
            "Epoch 87/150\n",
            "250/250 [==============================] - 2s 8ms/step - loss: 0.3432 - accuracy: 0.9006 - val_loss: 0.5914 - val_accuracy: 0.8399\n",
            "Epoch 88/150\n",
            "250/250 [==============================] - 2s 9ms/step - loss: 0.3430 - accuracy: 0.9004 - val_loss: 0.5909 - val_accuracy: 0.8392\n",
            "Epoch 89/150\n",
            "250/250 [==============================] - 2s 9ms/step - loss: 0.3426 - accuracy: 0.9007 - val_loss: 0.5905 - val_accuracy: 0.8402\n",
            "Epoch 90/150\n",
            "250/250 [==============================] - 2s 9ms/step - loss: 0.3424 - accuracy: 0.9007 - val_loss: 0.5898 - val_accuracy: 0.8397\n",
            "Epoch 91/150\n",
            "250/250 [==============================] - 2s 9ms/step - loss: 0.3421 - accuracy: 0.9008 - val_loss: 0.5907 - val_accuracy: 0.8400\n",
            "Epoch 92/150\n",
            "250/250 [==============================] - 2s 9ms/step - loss: 0.3419 - accuracy: 0.9007 - val_loss: 0.5932 - val_accuracy: 0.8386\n",
            "Epoch 93/150\n",
            "250/250 [==============================] - 2s 8ms/step - loss: 0.3417 - accuracy: 0.9009 - val_loss: 0.5930 - val_accuracy: 0.8399\n",
            "Epoch 94/150\n",
            "250/250 [==============================] - 2s 8ms/step - loss: 0.3414 - accuracy: 0.9007 - val_loss: 0.5915 - val_accuracy: 0.8395\n",
            "Epoch 95/150\n",
            "250/250 [==============================] - 2s 8ms/step - loss: 0.3412 - accuracy: 0.9010 - val_loss: 0.5940 - val_accuracy: 0.8391\n",
            "Epoch 96/150\n",
            "250/250 [==============================] - 2s 8ms/step - loss: 0.3410 - accuracy: 0.9012 - val_loss: 0.5914 - val_accuracy: 0.8394\n",
            "Epoch 97/150\n",
            "250/250 [==============================] - 2s 8ms/step - loss: 0.3408 - accuracy: 0.9013 - val_loss: 0.5911 - val_accuracy: 0.8397\n",
            "Epoch 98/150\n",
            "250/250 [==============================] - 2s 9ms/step - loss: 0.3404 - accuracy: 0.9013 - val_loss: 0.5942 - val_accuracy: 0.8390\n",
            "Epoch 99/150\n",
            "250/250 [==============================] - 2s 9ms/step - loss: 0.3404 - accuracy: 0.9013 - val_loss: 0.5928 - val_accuracy: 0.8397\n",
            "Epoch 100/150\n",
            "250/250 [==============================] - 2s 8ms/step - loss: 0.3400 - accuracy: 0.9016 - val_loss: 0.5913 - val_accuracy: 0.8397\n",
            "Epoch 101/150\n",
            "250/250 [==============================] - 2s 9ms/step - loss: 0.3398 - accuracy: 0.9015 - val_loss: 0.5940 - val_accuracy: 0.8391\n",
            "Epoch 102/150\n",
            "250/250 [==============================] - 2s 9ms/step - loss: 0.3395 - accuracy: 0.9017 - val_loss: 0.5949 - val_accuracy: 0.8393\n",
            "Epoch 103/150\n",
            "250/250 [==============================] - 2s 8ms/step - loss: 0.3393 - accuracy: 0.9017 - val_loss: 0.5934 - val_accuracy: 0.8391\n",
            "Epoch 104/150\n",
            "250/250 [==============================] - 2s 9ms/step - loss: 0.3392 - accuracy: 0.9018 - val_loss: 0.5971 - val_accuracy: 0.8392\n",
            "Epoch 105/150\n",
            "250/250 [==============================] - 2s 8ms/step - loss: 0.3389 - accuracy: 0.9019 - val_loss: 0.5952 - val_accuracy: 0.8392\n",
            "Epoch 106/150\n",
            "250/250 [==============================] - 2s 9ms/step - loss: 0.3387 - accuracy: 0.9017 - val_loss: 0.5967 - val_accuracy: 0.8389\n",
            "Epoch 107/150\n",
            "250/250 [==============================] - 2s 8ms/step - loss: 0.3385 - accuracy: 0.9021 - val_loss: 0.5933 - val_accuracy: 0.8398\n",
            "Epoch 108/150\n",
            "250/250 [==============================] - 2s 9ms/step - loss: 0.3383 - accuracy: 0.9021 - val_loss: 0.5965 - val_accuracy: 0.8383\n",
            "Epoch 109/150\n",
            "250/250 [==============================] - 2s 8ms/step - loss: 0.3380 - accuracy: 0.9022 - val_loss: 0.5960 - val_accuracy: 0.8393\n",
            "Epoch 110/150\n",
            "250/250 [==============================] - 2s 9ms/step - loss: 0.3379 - accuracy: 0.9022 - val_loss: 0.5954 - val_accuracy: 0.8395\n",
            "Epoch 111/150\n",
            "250/250 [==============================] - 2s 8ms/step - loss: 0.3375 - accuracy: 0.9023 - val_loss: 0.5969 - val_accuracy: 0.8385\n",
            "Epoch 112/150\n",
            "250/250 [==============================] - 2s 9ms/step - loss: 0.3374 - accuracy: 0.9022 - val_loss: 0.5934 - val_accuracy: 0.8401\n",
            "Epoch 113/150\n",
            "250/250 [==============================] - 2s 8ms/step - loss: 0.3372 - accuracy: 0.9023 - val_loss: 0.5970 - val_accuracy: 0.8393\n",
            "Epoch 114/150\n",
            "250/250 [==============================] - 2s 9ms/step - loss: 0.3370 - accuracy: 0.9024 - val_loss: 0.5977 - val_accuracy: 0.8385\n",
            "Epoch 115/150\n",
            "250/250 [==============================] - 2s 8ms/step - loss: 0.3366 - accuracy: 0.9025 - val_loss: 0.5972 - val_accuracy: 0.8390\n",
            "Epoch 116/150\n",
            "250/250 [==============================] - 2s 9ms/step - loss: 0.3367 - accuracy: 0.9024 - val_loss: 0.5963 - val_accuracy: 0.8393\n",
            "Epoch 117/150\n",
            "250/250 [==============================] - 2s 8ms/step - loss: 0.3363 - accuracy: 0.9026 - val_loss: 0.5990 - val_accuracy: 0.8389\n",
            "Epoch 118/150\n",
            "250/250 [==============================] - 2s 9ms/step - loss: 0.3361 - accuracy: 0.9026 - val_loss: 0.5975 - val_accuracy: 0.8390\n",
            "Epoch 119/150\n",
            "250/250 [==============================] - 2s 8ms/step - loss: 0.3358 - accuracy: 0.9027 - val_loss: 0.5978 - val_accuracy: 0.8380\n",
            "Epoch 120/150\n",
            "250/250 [==============================] - 2s 9ms/step - loss: 0.3356 - accuracy: 0.9030 - val_loss: 0.5974 - val_accuracy: 0.8388\n",
            "Epoch 121/150\n",
            "250/250 [==============================] - 2s 8ms/step - loss: 0.3354 - accuracy: 0.9029 - val_loss: 0.6019 - val_accuracy: 0.8371\n",
            "Epoch 122/150\n",
            "250/250 [==============================] - 2s 8ms/step - loss: 0.3351 - accuracy: 0.9027 - val_loss: 0.5967 - val_accuracy: 0.8390\n",
            "Epoch 123/150\n",
            "250/250 [==============================] - 2s 8ms/step - loss: 0.3352 - accuracy: 0.9029 - val_loss: 0.5992 - val_accuracy: 0.8384\n",
            "Epoch 124/150\n",
            "250/250 [==============================] - 2s 8ms/step - loss: 0.3348 - accuracy: 0.9028 - val_loss: 0.6010 - val_accuracy: 0.8382\n",
            "Epoch 125/150\n",
            "250/250 [==============================] - 2s 8ms/step - loss: 0.3347 - accuracy: 0.9030 - val_loss: 0.6015 - val_accuracy: 0.8381\n",
            "Epoch 126/150\n",
            "250/250 [==============================] - 2s 8ms/step - loss: 0.3344 - accuracy: 0.9030 - val_loss: 0.5994 - val_accuracy: 0.8387\n",
            "Epoch 127/150\n",
            "250/250 [==============================] - 2s 8ms/step - loss: 0.3341 - accuracy: 0.9029 - val_loss: 0.5958 - val_accuracy: 0.8395\n",
            "Epoch 128/150\n",
            "250/250 [==============================] - 2s 8ms/step - loss: 0.3341 - accuracy: 0.9032 - val_loss: 0.5999 - val_accuracy: 0.8389\n",
            "Epoch 129/150\n",
            "250/250 [==============================] - 2s 8ms/step - loss: 0.3337 - accuracy: 0.9032 - val_loss: 0.5984 - val_accuracy: 0.8393\n",
            "Epoch 130/150\n",
            "250/250 [==============================] - 2s 9ms/step - loss: 0.3337 - accuracy: 0.9032 - val_loss: 0.6039 - val_accuracy: 0.8369\n",
            "Epoch 131/150\n",
            "250/250 [==============================] - 2s 8ms/step - loss: 0.3336 - accuracy: 0.9035 - val_loss: 0.6019 - val_accuracy: 0.8379\n",
            "Epoch 132/150\n",
            "250/250 [==============================] - 2s 8ms/step - loss: 0.3334 - accuracy: 0.9034 - val_loss: 0.6015 - val_accuracy: 0.8386\n",
            "Epoch 133/150\n",
            "250/250 [==============================] - 2s 8ms/step - loss: 0.3331 - accuracy: 0.9037 - val_loss: 0.6017 - val_accuracy: 0.8379\n",
            "Epoch 134/150\n",
            "250/250 [==============================] - 2s 8ms/step - loss: 0.3329 - accuracy: 0.9035 - val_loss: 0.6042 - val_accuracy: 0.8373\n",
            "Epoch 135/150\n",
            "250/250 [==============================] - 2s 8ms/step - loss: 0.3327 - accuracy: 0.9036 - val_loss: 0.6040 - val_accuracy: 0.8378\n",
            "Epoch 136/150\n",
            "250/250 [==============================] - 2s 8ms/step - loss: 0.3326 - accuracy: 0.9038 - val_loss: 0.6049 - val_accuracy: 0.8376\n",
            "Epoch 137/150\n",
            "250/250 [==============================] - 2s 8ms/step - loss: 0.3324 - accuracy: 0.9037 - val_loss: 0.6030 - val_accuracy: 0.8382\n",
            "Epoch 138/150\n",
            "250/250 [==============================] - 2s 8ms/step - loss: 0.3324 - accuracy: 0.9037 - val_loss: 0.6028 - val_accuracy: 0.8385\n",
            "Epoch 139/150\n",
            "250/250 [==============================] - 2s 8ms/step - loss: 0.3320 - accuracy: 0.9037 - val_loss: 0.6056 - val_accuracy: 0.8373\n",
            "Epoch 140/150\n",
            "250/250 [==============================] - 2s 8ms/step - loss: 0.3317 - accuracy: 0.9040 - val_loss: 0.6033 - val_accuracy: 0.8380\n",
            "Epoch 141/150\n",
            "250/250 [==============================] - 2s 8ms/step - loss: 0.3317 - accuracy: 0.9038 - val_loss: 0.6037 - val_accuracy: 0.8382\n",
            "Epoch 142/150\n",
            "250/250 [==============================] - 2s 8ms/step - loss: 0.3317 - accuracy: 0.9040 - val_loss: 0.6049 - val_accuracy: 0.8380\n",
            "Epoch 143/150\n",
            "250/250 [==============================] - 2s 8ms/step - loss: 0.3315 - accuracy: 0.9040 - val_loss: 0.6056 - val_accuracy: 0.8374\n",
            "Epoch 144/150\n",
            "250/250 [==============================] - 2s 8ms/step - loss: 0.3310 - accuracy: 0.9041 - val_loss: 0.6056 - val_accuracy: 0.8379\n",
            "Epoch 145/150\n",
            "250/250 [==============================] - 2s 8ms/step - loss: 0.3308 - accuracy: 0.9042 - val_loss: 0.6027 - val_accuracy: 0.8385\n",
            "Epoch 146/150\n",
            "250/250 [==============================] - 2s 9ms/step - loss: 0.3308 - accuracy: 0.9042 - val_loss: 0.6082 - val_accuracy: 0.8379\n",
            "Epoch 147/150\n",
            "250/250 [==============================] - 2s 8ms/step - loss: 0.3305 - accuracy: 0.9044 - val_loss: 0.6072 - val_accuracy: 0.8380\n",
            "Epoch 148/150\n",
            "250/250 [==============================] - 2s 8ms/step - loss: 0.3304 - accuracy: 0.9043 - val_loss: 0.6097 - val_accuracy: 0.8374\n",
            "Epoch 149/150\n",
            "250/250 [==============================] - 2s 8ms/step - loss: 0.3303 - accuracy: 0.9043 - val_loss: 0.6046 - val_accuracy: 0.8383\n",
            "Epoch 150/150\n",
            "250/250 [==============================] - 2s 8ms/step - loss: 0.3300 - accuracy: 0.9047 - val_loss: 0.6083 - val_accuracy: 0.8381\n"
          ]
        }
      ]
    },
    {
      "cell_type": "code",
      "source": [
        "val_loss = history.history['val_loss']\n",
        "val_accuracy = history.history['val_accuracy']\n",
        "accuracy = history.history['accuracy']\n",
        "loss = history.history['loss']\n",
        "epoch = history.epoch\n",
        "plt.plot(epoch, val_accuracy)"
      ],
      "metadata": {
        "id": "dXcFhvWRZhhb"
      },
      "execution_count": null,
      "outputs": []
    },
    {
      "cell_type": "code",
      "source": [
        "import seaborn as sns\n",
        "sns.set_style('darkgrid')\n",
        "plt.figure(figsize = (16,10))\n",
        "ax1 = plt.subplot(1,2,1)\n",
        "ax1.plot(epoch, val_accuracy, 'r-')\n",
        "ax2 = plt.subplot(1,2,2)\n",
        "ax2.plot(epoch, accuracy)"
      ],
      "metadata": {
        "colab": {
          "base_uri": "https://localhost:8080/",
          "height": 609
        },
        "id": "0Cg3bD14aJk0",
        "outputId": "efa8941b-9c63-4359-c4a6-abd4c02e5684"
      },
      "execution_count": null,
      "outputs": [
        {
          "output_type": "execute_result",
          "data": {
            "text/plain": [
              "[<matplotlib.lines.Line2D at 0x7f73ba17ef50>]"
            ]
          },
          "metadata": {},
          "execution_count": 46
        },
        {
          "output_type": "display_data",
          "data": {
            "image/png": "[encoded data removed]",
            "text/plain": [
              "<Figure size 1152x720 with 2 Axes>"
            ]
          },
          "metadata": {}
        }
      ]
    },
    {
      "cell_type": "code",
      "source": [
        "encoder_test_model = tf.keras.models.Model(encoder_model, encoder_states)\n",
        "\n",
        "decoder_state_input_h = Input(shape=(lstm_size,))\n",
        "decoder_state_input_c = Input(shape=(lstm_size,))\n",
        "decoder_states_inputs = [decoder_state_input_h, decoder_state_input_c]\n",
        "decoder_outputs, state_h, state_c = decoder(decoder_model, initial_state=decoder_states_inputs)\n",
        "decoder_states = [state_h, state_c]\n",
        "decoder_outputs = decoder_layer(decoder_outputs)\n",
        "decoder_test_model = tf.keras.models.Model(\n",
        "    [decoder_model] + decoder_states_inputs,\n",
        "    [decoder_outputs] + decoder_states)"
      ],
      "metadata": {
        "id": "VrXroCf-Yqa5"
      },
      "execution_count": null,
      "outputs": []
    },
    {
      "cell_type": "code",
      "source": [
        "#temp = list(target_token_index)\n",
        "#target_token_index\n",
        "reverse_target_char_index = dict([(i,char) for (char,i) in target_token_index.items()])"
      ],
      "metadata": {
        "id": "lUqSqOVFfgbN"
      },
      "execution_count": null,
      "outputs": []
    },
    {
      "cell_type": "code",
      "source": [
        "def decode_sequence(input_seq):\n",
        "    # Encode the input as state vectors.\n",
        "    states_value = encoder_test_model.predict(input_seq)\n",
        "\n",
        "    # Generate empty target sequence of length 1.\n",
        "    target_seq = np.zeros((1, 1, decoder_tokens))\n",
        "    # Populate the first character of target sequence with the start character.\n",
        "    target_seq[0, 0, target_token_index['\\t']] = 1.\n",
        "\n",
        "    # Sampling loop for a batch of sequences\n",
        "    # (to simplify, here we assume a batch of size 1).\n",
        "    stop_condition = False\n",
        "    decoded_sentence = ''\n",
        "    while not stop_condition:\n",
        "        output_tokens, h, c = decoder_test_model.predict(\n",
        "            [target_seq] + states_value)\n",
        "\n",
        "        # Sample a token\n",
        "        sampled_token_index = np.argmax(output_tokens[0, -1, :])\n",
        "        sampled_char = reverse_target_char_index[sampled_token_index]\n",
        "        decoded_sentence += sampled_char\n",
        "\n",
        "        # Exit condition: either hit max length\n",
        "        # or find stop character.\n",
        "        if (sampled_char == '\\n' or\n",
        "           len(decoded_sentence) > max_length_decoder):\n",
        "            stop_condition = True\n",
        "\n",
        "        # Update the target sequence (of length 1).\n",
        "        target_seq = np.zeros((1, 1, decoder_tokens))\n",
        "        target_seq[0, 0, sampled_token_index] = 1.\n",
        "\n",
        "        # Update states\n",
        "        states_value = [h, c]\n",
        "\n",
        "    return decoded_sentence"
      ],
      "metadata": {
        "id": "LxLwATszYuwD"
      },
      "execution_count": null,
      "outputs": []
    },
    {
      "cell_type": "code",
      "source": [
        "for i in range(10):\n",
        "  input_seq = encoder_input[i+100:i+101]\n",
        "  result = decode_sequence(input_seq)\n",
        "  print(\"Input sentence: \", input_text[i])\n",
        "  print(\"Decoded sentence: \", result)"
      ],
      "metadata": {
        "colab": {
          "base_uri": "https://localhost:8080/"
        },
        "id": "LNwWZ2KHc_Cw",
        "outputId": "634c2596-0347-42bb-9456-0cc948d89d10"
      },
      "execution_count": null,
      "outputs": [
        {
          "output_type": "stream",
          "name": "stdout",
          "text": [
            "Input sentence:  Go.\n",
            "Decoded sentence:  Hast dich?\n",
            "\n",
            "Input sentence:  Hi.\n",
            "Decoded sentence:  Danke!\n",
            "\n",
            "Input sentence:  Hi.\n",
            "Decoded sentence:  Danken Sie.\n",
            "\n",
            "Input sentence:  Run!\n",
            "Decoded sentence:  Versuchen Sie mich mich!\n",
            "\n",
            "Input sentence:  Run.\n",
            "Decoded sentence:  Wir sind schnell.\n",
            "\n",
            "Input sentence:  Wow!\n",
            "Decoded sentence:  Wir haben es gesehen.\n",
            "\n",
            "Input sentence:  Wow!\n",
            "Decoded sentence:  Worde Tom geschlagen?\n",
            "\n",
            "Input sentence:  Duck!\n",
            "Decoded sentence:  Braus Tom.\n",
            "\n",
            "Input sentence:  Fire!\n",
            "Decoded sentence:  Braus Tom.\n",
            "\n",
            "Input sentence:  Help!\n",
            "Decoded sentence:  Braus Tom.\n",
            "\n"
          ]
        }
      ]
    },
    {
      "cell_type": "code",
      "source": [
        ""
      ],
      "metadata": {
        "colab": {
          "base_uri": "https://localhost:8080/"
        },
        "id": "d2voQWx3dFki",
        "outputId": "bceaecef-1f9d-495f-acae-cf2b1a88adfe"
      },
      "execution_count": null,
      "outputs": [
        {
          "output_type": "execute_result",
          "data": {
            "text/plain": [
              "array([[0., 0., 0., ..., 0., 0., 0.],\n",
              "       [0., 0., 0., ..., 0., 0., 0.],\n",
              "       [0., 0., 0., ..., 0., 0., 0.],\n",
              "       ...,\n",
              "       [1., 0., 0., ..., 0., 0., 0.],\n",
              "       [1., 0., 0., ..., 0., 0., 0.],\n",
              "       [1., 0., 0., ..., 0., 0., 0.]], dtype=float32)"
            ]
          },
          "metadata": {},
          "execution_count": 81
        }
      ]
    },
    {
      "cell_type": "code",
      "source": [
        "#Custom Prediction\n",
        "print(\"How many sentences do you wanna use? (Atleast 2)\")\n",
        "n = int(input())\n",
        "custom_seq = []\n",
        "for i in range(n):\n",
        "  custom_seq.append(input())\n",
        "sample_hot_encoding = np.zeros((len(custom_seq),max_length_encoder, encoder_tokens),dtype='float32')\n",
        "for i in range(n):\n",
        "  for t, char in enumerate(custom_seq):\n",
        "    encoder_input[i,t,input_token_index[char]] = 1.\n",
        "  encoder_input[i,t+1:,input_token_index[' ']] = 1."
      ],
      "metadata": {
        "id": "wHzdkfY3jNLk"
      },
      "execution_count": null,
      "outputs": []
    }
  ]
}